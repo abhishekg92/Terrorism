{
 "cells": [
  {
   "cell_type": "code",
   "execution_count": 51,
   "metadata": {
    "collapsed": false
   },
   "outputs": [],
   "source": [
    "import pandas as pd\n",
    "import matplotlib\n",
    "import matplotlib.pyplot as plt\n",
    "%matplotlib inline \n"
   ]
  },
  {
   "cell_type": "code",
   "execution_count": 27,
   "metadata": {
    "collapsed": false
   },
   "outputs": [],
   "source": [
    "# open the file\n",
    "c = pd.read_csv(\"C:\\Users\\shreya.jain\\Downloads\\globalterrorismdb_0616dist.csv\")\n",
    "d = pd.DataFrame(c)"
   ]
  },
  {
   "cell_type": "code",
   "execution_count": 40,
   "metadata": {
    "collapsed": false
   },
   "outputs": [],
   "source": [
    "data = d[['eventid', 'iyear', 'imonth', 'iday', 'country', 'country_txt', 'region','region_txt','attacktype1','attacktype1_txt', 'success', 'weaptype1', 'weaptype1_txt', 'targtype1','targtype1_txt', 'natlty1', 'natlty1_txt', 'ishostkid', 'suicide', 'nkill']]"
   ]
  },
  {
   "cell_type": "code",
   "execution_count": 41,
   "metadata": {
    "collapsed": false
   },
   "outputs": [
    {
     "name": "stdout",
     "output_type": "stream",
     "text": [
      "(156772, 20)\n",
      "        eventid  iyear  imonth  iday  country         country_txt  region  \\\n",
      "0  197000000001   1970       0     0       58  Dominican Republic       2   \n",
      "1  197000000002   1970       0     0      130              Mexico       1   \n",
      "2  197001000001   1970       1     0      160         Philippines       5   \n",
      "3  197001000002   1970       1     0       78              Greece       8   \n",
      "4  197001000003   1970       1     0      101               Japan       4   \n",
      "\n",
      "                    region_txt  attacktype1                 attacktype1_txt  \\\n",
      "0  Central America & Caribbean            1                   Assassination   \n",
      "1                North America            6     Hostage Taking (Kidnapping)   \n",
      "2               Southeast Asia            1                   Assassination   \n",
      "3               Western Europe            3               Bombing/Explosion   \n",
      "4                    East Asia            7  Facility/Infrastructure Attack   \n",
      "\n",
      "   success  weaptype1              weaptype1_txt  targtype1  \\\n",
      "0        1         13                    Unknown         14   \n",
      "1        1         13                    Unknown          7   \n",
      "2        1         13                    Unknown         10   \n",
      "3        1          6  Explosives/Bombs/Dynamite          7   \n",
      "4        1          8                 Incendiary          7   \n",
      "\n",
      "                 targtype1_txt  natlty1         natlty1_txt  ishostkid  \\\n",
      "0  Private Citizens & Property     58.0  Dominican Republic        0.0   \n",
      "1      Government (Diplomatic)     21.0             Belgium        1.0   \n",
      "2          Journalists & Media    217.0       United States        0.0   \n",
      "3      Government (Diplomatic)    217.0       United States        0.0   \n",
      "4      Government (Diplomatic)    217.0       United States        0.0   \n",
      "\n",
      "   suicide  nkill  \n",
      "0        0    1.0  \n",
      "1        0    0.0  \n",
      "2        0    1.0  \n",
      "3        0    NaN  \n",
      "4        0    NaN  \n"
     ]
    }
   ],
   "source": [
    "print data.shape\n",
    "print data.head()"
   ]
  },
  {
   "cell_type": "code",
   "execution_count": 42,
   "metadata": {
    "collapsed": false
   },
   "outputs": [
    {
     "data": {
      "text/plain": [
       "eventid               0\n",
       "iyear                 0\n",
       "imonth                0\n",
       "iday                  0\n",
       "country               0\n",
       "country_txt           0\n",
       "region                0\n",
       "region_txt            0\n",
       "attacktype1           0\n",
       "attacktype1_txt       0\n",
       "success               0\n",
       "weaptype1             0\n",
       "weaptype1_txt         0\n",
       "targtype1             0\n",
       "targtype1_txt         0\n",
       "natlty1            1228\n",
       "natlty1_txt           0\n",
       "ishostkid           178\n",
       "suicide               0\n",
       "nkill              8945\n",
       "dtype: int64"
      ]
     },
     "execution_count": 42,
     "metadata": {},
     "output_type": "execute_result"
    }
   ],
   "source": [
    "data.isnull().sum()"
   ]
  },
  {
   "cell_type": "code",
   "execution_count": 45,
   "metadata": {
    "collapsed": false
   },
   "outputs": [],
   "source": [
    "data = data.dropna(axis=0, how='any')\n",
    "print data.shape"
   ]
  },
  {
   "cell_type": "code",
   "execution_count": 52,
   "metadata": {
    "collapsed": true
   },
   "outputs": [],
   "source": [
    "df = pd.DataFrame(data.groupby('iyear')['eventid'].count())"
   ]
  },
  {
   "cell_type": "code",
   "execution_count": 53,
   "metadata": {
    "collapsed": false
   },
   "outputs": [
    {
     "data": {
      "text/plain": [
       "<matplotlib.axes._subplots.AxesSubplot at 0x56b87e48>"
      ]
     },
     "execution_count": 53,
     "metadata": {},
     "output_type": "execute_result"
    },
    {
     "data": {
      "image/png": "[encoded data removed]",
      "text/plain": [
       "<matplotlib.figure.Figure at 0x3b44abe0>"
      ]
     },
     "metadata": {},
     "output_type": "display_data"
    }
   ],
   "source": [
    "df.plot()"
   ]
  },
  {
   "cell_type": "code",
   "execution_count": null,
   "metadata": {
    "collapsed": true
   },
   "outputs": [],
   "source": []
  }
 ],
 "metadata": {
  "kernelspec": {
   "display_name": "Python 2",
   "language": "python",
   "name": "python2"
  },
  "language_info": {
   "codemirror_mode": {
    "name": "ipython",
    "version": 2
   },
   "file_extension": ".py",
   "mimetype": "text/x-python",
   "name": "python",
   "nbconvert_exporter": "python",
   "pygments_lexer": "ipython2",
   "version": "2.7.13"
  }
 },
 "nbformat": 4,
 "nbformat_minor": 2
}
